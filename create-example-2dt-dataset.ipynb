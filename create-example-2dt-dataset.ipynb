{
 "cells": [
  {
   "attachments": {},
   "cell_type": "markdown",
   "metadata": {},
   "source": [
    "# Create an example fUS-BIDS v0.0.6 dataset\n",
    "\n",
    "This notebook creates an example fUS-BIDS dataset for version 0.0.6 of the\n",
    "specification. The data comes from the Opioids project, conducted by Jean-Charles\n",
    "Mariani under the supervision of Andrea Kliewer and Zsolt Lenkei. "
   ]
  },
  {
   "cell_type": "code",
   "execution_count": 1,
   "metadata": {},
   "outputs": [],
   "source": [
    "import datetime\n",
    "import json\n",
    "import random\n",
    "\n",
    "import numpy as np\n",
    "import pandas as pd\n",
    "from pathlib import Path\n",
    "\n",
    "rawdata_path = Path(\n",
    "    \"/home/sdiebolt/Documents/Work/fus-bids-examples/\"\n",
    "    \"fusbids-v0.0.6-example/rawdata\"\n",
    ")\n",
    "rawdata_path.mkdir(parents=True, exist_ok=True)"
   ]
  },
  {
   "attachments": {},
   "cell_type": "markdown",
   "metadata": {},
   "source": [
    "## Dataset description\n",
    "\n",
    "The first step is to create the `dataset_description.json` file."
   ]
  },
  {
   "cell_type": "code",
   "execution_count": 2,
   "metadata": {},
   "outputs": [],
   "source": [
    "dataset_description_path = rawdata_path / \"dataset_description.json\"\n",
    "dataset_description = {\n",
    "    \"Name\": \"fUS-BIDS v0.0.6 example dataset\",\n",
    "    \"BIDSVersion\": \"1.8.0\",\n",
    "    \"DatasetType\": \"raw\",\n",
    "    \"Authors\": [\"Samuel Diebolt\"],\n",
    "    \"GeneratedBy\": [\n",
    "        {\n",
    "            \"Name\": \"Custom script\",\n",
    "            \"Description\": \"Custom Python notebook used to convert machine output to BIDS.\",\n",
    "        }\n",
    "    ],\n",
    "}\n",
    "\n",
    "with open(dataset_description_path, \"w\") as dataset_description_file:\n",
    "    dataset_description_file.write(json.dumps(dataset_description, indent=2))"
   ]
  },
  {
   "attachments": {},
   "cell_type": "markdown",
   "metadata": {},
   "source": [
    "## `README`\n",
    "\n",
    "The `README` file should describe the dataset in more details."
   ]
  },
  {
   "cell_type": "code",
   "execution_count": 3,
   "metadata": {},
   "outputs": [],
   "source": [
    "readme_path = rawdata_path / \"README.md\"\n",
    "readme = \"\"\"# Example fUS-BIDS v0.0.6 dataset\n",
    "\n",
    "This dataset provides an example for version 0.0.6 of the [fUS-BIDS\n",
    "specification](https://docs.google.com/document/d/1W3z01mf1E8cfg_OY7ZGqeUeOKv659jCHQBXavtmT-T8/edit?pli=1#heading=h.4k1noo90gelw).\n",
    "\n",
    "## Overwiew\n",
    "\n",
    "This dataset consists of ten subject with two sessions each, vehicle and treatment. Each\n",
    "session consists of a 3D angiography and three 2D+t functional scans.\n",
    "\n",
    "Scans are represented by empty NIfTI files: the purpose of this dataset is to\n",
    "demonstrate JSON and TSV metadata files.\n",
    "\n",
    "## Authors\n",
    "\n",
    "- [Samuel Diebolt](mailto:samuel@diebolt.io)\"\"\"\n",
    "\n",
    "with open(readme_path, \"w\") as readme_file:\n",
    "    readme_file.write(readme)"
   ]
  },
  {
   "attachments": {},
   "cell_type": "markdown",
   "metadata": {},
   "source": [
    "## `CHANGES`\n",
    "\n",
    "The `CHANGES` file should describe the different versions of the dataset. It must follow\n",
    "the [CPAN Changelog convention](https://metacpan.org/pod/release/HAARG/CPAN-Changes-0.400002/lib/CPAN/Changes/Spec.pod)."
   ]
  },
  {
   "cell_type": "code",
   "execution_count": 4,
   "metadata": {},
   "outputs": [],
   "source": [
    "changes_path = rawdata_path / \"CHANGES.md\"\n",
    "changes = \"\"\"1.0.0 2023-06-21\n",
    "  \n",
    " - Initial release.\"\"\"\n",
    "\n",
    "with open(changes_path, \"w\") as changes_file:\n",
    "    changes_file.write(changes)"
   ]
  },
  {
   "attachments": {},
   "cell_type": "markdown",
   "metadata": {},
   "source": [
    "## Participants\n",
    "\n",
    "The `participants.tsv` and `participants.json` files should describe properties of\n",
    "participants such as age, sex, strain, etc."
   ]
  },
  {
   "cell_type": "code",
   "execution_count": 5,
   "metadata": {},
   "outputs": [],
   "source": [
    "participants_table_path = rawdata_path / \"participants.tsv\"\n",
    "participants_table = {\n",
    "    \"participant_id\": [f\"sub-{i:02d}\" for i in range(1, 11)],\n",
    "    \"species\": [\"mus musculus\"] * 10,\n",
    "    \"strain\": [\"C57BL/6J\"] * 10,\n",
    "    \"strain_rrid\": [\"RRID:IMSR_JAX:000664\"] * 10,\n",
    "    \"age\": np.random.randint(25, 30, size=(10,)).tolist(),\n",
    "    \"sex\": random.choices([\"F\", \"M\"], k=10),\n",
    "    \"weight\": 2 * np.random.randn(10),\n",
    "}\n",
    "participants_table = pd.DataFrame(participants_table)\n",
    "\n",
    "\n",
    "# Set weight based on sex.\n",
    "participants_table.loc[participants_table.sex == \"F\", \"weight\"] += 26\n",
    "participants_table.loc[participants_table.sex == \"M\", \"weight\"] += 35\n",
    "\n",
    "participants_table.to_csv(participants_table_path, sep=\"\\t\", index=False)"
   ]
  },
  {
   "cell_type": "code",
   "execution_count": 6,
   "metadata": {},
   "outputs": [],
   "source": [
    "participants_json_path = rawdata_path / \"participants.json\"\n",
    "participants_json = {\n",
    "    \"species\": {\n",
    "        \"Description\": \"binomial species name from NCBI Taxonomy (https://www.ncbi.nlm.nih.gov/Taxonomy/Browser/wwwtax.cgi)\"\n",
    "    },\n",
    "    \"strain\": {\"Description\": \"string value indicating the strain of the species\"},\n",
    "    \"strain_rrid\": {\n",
    "        \"Description\": \"research resource identifier of the strain of the species from https://scicrunch.org/resources/Organisms/search\"\n",
    "    },\n",
    "    \"age\": {\"Description\": \"Age of the animal at first acquisition, in weeks.\"},\n",
    "    \"sex\": {\"Description\": \"Sex of the animal\", \"Levels\": {\"M\": \"male\", \"F\": \"female\"}},\n",
    "    \"weight\": {\"Description\": \"Weight of the animal at first acquisition, in grams.\"},\n",
    "}\n",
    "\n",
    "with open(participants_json_path, \"w\") as participants_json_file:\n",
    "    participants_json_file.write(json.dumps(participants_json, indent=2))"
   ]
  },
  {
   "attachments": {},
   "cell_type": "markdown",
   "metadata": {},
   "source": [
    "## Common `pwd` JSON file\n",
    "\n",
    "All power Doppler scans have common metadata that must be specified at the root of the\n",
    "dataset in a `pwd.json` file according to the BIDS inheritance principle."
   ]
  },
  {
   "cell_type": "code",
   "execution_count": 7,
   "metadata": {},
   "outputs": [],
   "source": [
    "pwd_json_path = rawdata_path / \"pwd.json\"\n",
    "pwd_json = {\n",
    "    \"Manufacturer\": \"Iconeus\",\n",
    "    \"ManufacturersModelName\": \"Iconeus One\",\n",
    "    \"DeviceSerialNumber\": \"X23HFB12K8\",\n",
    "    \"StationName\": \"Machine01\",\n",
    "    \"SoftwareVersions\": \"1.5.0\",\n",
    "    \"ProbeType\": \"linear\",\n",
    "    \"ProbeModel\": \"IcoPrime\",\n",
    "    \"ProbeCentralFrequency\": 15.625,\n",
    "    \"ProbeNumberOfElements\": 128,\n",
    "    \"ProbePitch\": 0.11,\n",
    "    \"ProbeRadiusOfCurvature\": 0,\n",
    "    \"ProbeElevationAperture\": 1.5,\n",
    "    \"ProbeElevationFocus\": 8,\n",
    "    \"MaximalDepth\": 10,\n",
    "    \"UltrasoundPulseRepetitionFrequency\": 5500,\n",
    "    \"PlaneWaveAngles\": [-10, -8, -6, -4, -2, 0, 2, 4, 6, 8, 10],\n",
    "    \"UltrafastSamplingFrequency\": 500,\n",
    "    \"ProbeVoltage\": 25,\n",
    "    \"SequenceName\": \"default\",\n",
    "    \"ClutterFilterWindowDuration\": 400,\n",
    "    \"ClutterFilters\": [{\"FilterType\": \"Fixed-threshold SVD\", \"Threshold\": 60}],\n",
    "    \"PowerDopplerIntegrationDuration\": 400,\n",
    "}\n",
    "\n",
    "with open(pwd_json_path, \"w\") as pwd_json_file:\n",
    "    pwd_json_file.write(json.dumps(pwd_json, indent=2))"
   ]
  },
  {
   "attachments": {},
   "cell_type": "markdown",
   "metadata": {},
   "source": [
    "## Individual scans\n",
    "\n",
    "Individual scan files are created as empty NIfTI files. The `*_scans.tsv` and\n",
    "`*_sessions.tsv*` files are created by generating random dates. Finally, task JSON files\n",
    "are added to eacch subject's folder, since we cannot create a root-level task-file\n",
    "(otherwise there would be multiple JSON metadata files applicable to one functional scan\n",
    "at the root-level, in contradiction with rule 4. of the BIDS Inheritance Principle)."
   ]
  },
  {
   "cell_type": "code",
   "execution_count": 8,
   "metadata": {},
   "outputs": [],
   "source": [
    "task_json = {\n",
    "    \"TaskName\": \"awake\",\n",
    "    \"TaskDescription\": \"Awake head-fixed state.\",\n",
    "    \"VolumeTiming\": np.arange(0, 1200, 0.4).tolist(),\n",
    "}\n",
    "\n",
    "sessions = (\"vehicle\", \"treatment\")\n",
    "acq_values = (\"bregmaMinus2\", \"bregmaMinus1\", \"bregmaPlus05\")\n",
    "for subject_index in range(1, 11):\n",
    "    subject_path = rawdata_path / f\"sub-{subject_index:02d}\"\n",
    "    subject_path.mkdir(exist_ok=True)\n",
    "\n",
    "    # Task JSON file.\n",
    "    subject_json_path = subject_path / f\"sub-{subject_index:02d}_task-awake_pwd.json\"\n",
    "    with open(subject_json_path, \"w\") as subject_json_file:\n",
    "        subject_json_file.write(json.dumps(task_json, indent=2))\n",
    "\n",
    "    session_dates = []\n",
    "    for session in sessions:\n",
    "        session_path = subject_path / f\"ses-{session}\"\n",
    "\n",
    "        # Anatomical scans.\n",
    "        anat_path = session_path / \"anat\"\n",
    "        anat_path.mkdir(exist_ok=True, parents=True)\n",
    "\n",
    "        angio_scan_path = (\n",
    "            anat_path / f\"sub-{subject_index:02d}_ses-{session}_pwd.nii.gz\"\n",
    "        )\n",
    "        open(angio_scan_path, \"a\").close()\n",
    "        scan_paths_in_session = [str(angio_scan_path.relative_to(session_path))]\n",
    "        # Functional scans.\n",
    "        fus_path = session_path / \"fus\"\n",
    "        fus_path.mkdir(exist_ok=True, parents=True)\n",
    "\n",
    "        for acq_value in acq_values:\n",
    "            fus_scan_path = fus_path / (\n",
    "                f\"sub-{subject_index:02d}_ses-{session}_task-awake\"\n",
    "                f\"_acq-{acq_value}_pwd.nii.gz\"\n",
    "            )\n",
    "            open(fus_scan_path, \"a\").close()\n",
    "            scan_paths_in_session.append(str(fus_scan_path.relative_to(session_path)))\n",
    "\n",
    "        # Scans TSV file.\n",
    "        scans_table_path = (\n",
    "            session_path / f\"sub-{subject_index:02d}_ses-{session}_scans.tsv\"\n",
    "        )\n",
    "        scan_dates = np.array(\n",
    "            [\n",
    "                datetime.datetime(2022, 1, 1)\n",
    "                + datetime.timedelta(\n",
    "                    days=random.randint(0, 360),\n",
    "                    seconds=random.randint(0, 60),\n",
    "                    minutes=random.randint(0, 60),\n",
    "                    hours=random.randint(0, 24),\n",
    "                )\n",
    "                for _ in range(len(scan_paths_in_session))\n",
    "            ]\n",
    "        )\n",
    "        session_dates.append(scan_dates.min())\n",
    "        scans_table = pd.DataFrame(\n",
    "            {\n",
    "                \"filename\": scan_paths_in_session,\n",
    "                \"acq_time\": [\n",
    "                    date.strftime(\"%Y-%m-%dT:%H:%M:%S\") for date in scan_dates\n",
    "                ],\n",
    "            }\n",
    "        )\n",
    "        scans_table.to_csv(scans_table_path, sep=\"\\t\")\n",
    "\n",
    "    session_table_path = subject_path / f\"sub-{subject_index:02d}_sessions.tsv\"\n",
    "    session_table = pd.DataFrame(\n",
    "        {\n",
    "            \"session_id\": [f\"ses-{session}\" for session in sessions],\n",
    "            \"acq_time\": [\n",
    "                date.strftime(\"%Y-%m-%dT:%H:%M:%S\") for date in session_dates\n",
    "            ]\n",
    "        }\n",
    "    )\n",
    "    session_table.to_csv(session_table_path, sep=\"\\t\")"
   ]
  }
 ],
 "metadata": {
  "kernelspec": {
   "display_name": "Python 3 (ipykernel)",
   "language": "python",
   "name": "python3"
  },
  "language_info": {
   "codemirror_mode": {
    "name": "ipython",
    "version": 3
   },
   "file_extension": ".py",
   "mimetype": "text/x-python",
   "name": "python",
   "nbconvert_exporter": "python",
   "pygments_lexer": "ipython3",
   "version": "3.11.0"
  },
  "orig_nbformat": 4
 },
 "nbformat": 4,
 "nbformat_minor": 2
}
